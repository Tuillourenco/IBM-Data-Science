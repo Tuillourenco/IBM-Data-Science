{
 "cells": [
  {
   "cell_type": "code",
   "execution_count": 1,
   "id": "8fc1e7d4-188b-4cfe-8785-9a924f47be71",
   "metadata": {},
   "outputs": [
    {
     "name": "stdout",
     "output_type": "stream",
     "text": [
      "Requirement already satisfied: yfinance==0.1.67 in /home/jupyterlab/conda/envs/python/lib/python3.7/site-packages (0.1.67)\n",
      "Requirement already satisfied: pandas>=0.24 in /home/jupyterlab/conda/envs/python/lib/python3.7/site-packages (from yfinance==0.1.67) (1.3.5)\n",
      "Requirement already satisfied: requests>=2.20 in /home/jupyterlab/conda/envs/python/lib/python3.7/site-packages (from yfinance==0.1.67) (2.27.1)\n",
      "Requirement already satisfied: lxml>=4.5.1 in /home/jupyterlab/conda/envs/python/lib/python3.7/site-packages (from yfinance==0.1.67) (4.6.4)\n",
      "Requirement already satisfied: multitasking>=0.0.7 in /home/jupyterlab/conda/envs/python/lib/python3.7/site-packages (from yfinance==0.1.67) (0.0.10)\n",
      "Requirement already satisfied: numpy>=1.15 in /home/jupyterlab/conda/envs/python/lib/python3.7/site-packages (from yfinance==0.1.67) (1.21.5)\n",
      "Requirement already satisfied: python-dateutil>=2.7.3 in /home/jupyterlab/conda/envs/python/lib/python3.7/site-packages (from pandas>=0.24->yfinance==0.1.67) (2.8.2)\n",
      "Requirement already satisfied: pytz>=2017.3 in /home/jupyterlab/conda/envs/python/lib/python3.7/site-packages (from pandas>=0.24->yfinance==0.1.67) (2021.3)\n",
      "Requirement already satisfied: certifi>=2017.4.17 in /home/jupyterlab/conda/envs/python/lib/python3.7/site-packages (from requests>=2.20->yfinance==0.1.67) (2021.10.8)\n",
      "Requirement already satisfied: urllib3<1.27,>=1.21.1 in /home/jupyterlab/conda/envs/python/lib/python3.7/site-packages (from requests>=2.20->yfinance==0.1.67) (1.26.8)\n",
      "Requirement already satisfied: idna<4,>=2.5 in /home/jupyterlab/conda/envs/python/lib/python3.7/site-packages (from requests>=2.20->yfinance==0.1.67) (3.3)\n",
      "Requirement already satisfied: charset-normalizer~=2.0.0 in /home/jupyterlab/conda/envs/python/lib/python3.7/site-packages (from requests>=2.20->yfinance==0.1.67) (2.0.12)\n",
      "Requirement already satisfied: six>=1.5 in /home/jupyterlab/conda/envs/python/lib/python3.7/site-packages (from python-dateutil>=2.7.3->pandas>=0.24->yfinance==0.1.67) (1.16.0)\n"
     ]
    }
   ],
   "source": [
    "!pip install yfinance==0.1.67 #!pip install pandas==1.3.3"
   ]
  },
  {
   "cell_type": "code",
   "execution_count": 2,
   "id": "15a0e55a-0fc6-41d3-97e8-f649386a2975",
   "metadata": {},
   "outputs": [],
   "source": [
    "import yfinance as yf\n",
    "import pandas as pd"
   ]
  },
  {
   "cell_type": "code",
   "execution_count": 3,
   "id": "51d7a904-9dd9-4e33-9763-0117025fa61e",
   "metadata": {},
   "outputs": [],
   "source": [
    "brookfield = yf.Ticker(\"BAM\") # brookfield stock analysis"
   ]
  },
  {
   "cell_type": "code",
   "execution_count": 4,
   "id": "06d34a90-fc08-43de-9b3b-dc6228efa21d",
   "metadata": {},
   "outputs": [
    {
     "data": {
      "text/plain": [
       "{'zip': 'M5J 2T3',\n",
       " 'sector': 'Financial Services',\n",
       " 'longBusinessSummary': 'Brookfield Asset Management is an alternative asset manager and REIT/Real Estate Investment Manager firm focuses on real estate, renewable power, infrastructure and venture capital and private equity assets. It manages a range of public and private investment products and services for institutional and retail clients. It typically makes investments in sizeable, premier assets across geographies and asset classes. It invests both its own capital as well as capital from other investors. Within private equity and venture capital, it focuses on acquisition, early ventures, control buyouts and financially distressed, buyouts and corporate carve-outs, recapitalizations, convertible, senior and mezzanine financings, operational and capital structure restructuring, strategic re-direction, turnaround, and under-performing midmarket companies. It invests in both public debt and equity markets. It invests in private equity sectors with focus on Business Services include infrastructure, healthcare, road fuel distribution and marketing, construction and real estate; Industrials include manufacturers of automotive batteries, graphite electrodes, returnable plastic packaging, and sanitation management and development; and Residential/ infrastructure services. It targets companies which likely possess underlying real assets, primarily in sectors such as industrial products, building materials, metals, mining, homebuilding, oil and gas, paper and packaging, manufacturing and forest product sectors. It invests globally with focus on North America including Brazil, the United States, Canada; Europe; and Australia; and Asia-Pacific. The firm considers equity investments in the range of $2 million to $500 million. It has a four-year investment period and a 10-year term with two one-year extensions. The firm prefers to take minority stake and majority stake. Brookfield Asset Management Inc. was founded in 1997 and based in Toronto, Canada with additional offices across Northern America; South America; Europe; Middle East and Asia.',\n",
       " 'city': 'Toronto',\n",
       " 'phone': '416-363-9491',\n",
       " 'state': 'ON',\n",
       " 'country': 'Canada',\n",
       " 'companyOfficers': [],\n",
       " 'website': 'https://www.brookfield.com',\n",
       " 'maxAge': 1,\n",
       " 'address1': 'Brookfield Place',\n",
       " 'fax': '416-363-2856',\n",
       " 'industry': 'Asset Management',\n",
       " 'address2': 'Suite 300 181 Bay Street',\n",
       " 'ebitdaMargins': 0.26003,\n",
       " 'profitMargins': 0.05073,\n",
       " 'grossMargins': 0.26373,\n",
       " 'operatingCashflow': None,\n",
       " 'revenueGrowth': 0.266,\n",
       " 'operatingMargins': 0.17990999,\n",
       " 'ebitda': 20329998336,\n",
       " 'targetLowPrice': 53,\n",
       " 'recommendationKey': 'buy',\n",
       " 'grossProfits': 20619000000,\n",
       " 'freeCashflow': None,\n",
       " 'targetMedianPrice': 63.5,\n",
       " 'currentPrice': 55.6062,\n",
       " 'earningsGrowth': 0.66,\n",
       " 'currentRatio': 1.03,\n",
       " 'returnOnAssets': 0.023929998,\n",
       " 'numberOfAnalystOpinions': 12,\n",
       " 'targetMeanPrice': 63.38,\n",
       " 'debtToEquity': 130.571,\n",
       " 'returnOnEquity': 0.096260004,\n",
       " 'targetHighPrice': 71,\n",
       " 'totalCash': 12693999616,\n",
       " 'totalDebt': 175931998208,\n",
       " 'totalRevenue': 78181998592,\n",
       " 'totalCashPerShare': 8.094,\n",
       " 'financialCurrency': 'USD',\n",
       " 'revenuePerShare': 50.883,\n",
       " 'quickRatio': 0.826,\n",
       " 'recommendationMean': 1.9,\n",
       " 'exchange': 'NYQ',\n",
       " 'shortName': 'Brookfield Asset Management Inc',\n",
       " 'longName': 'Brookfield Asset Management Inc.',\n",
       " 'exchangeTimezoneName': 'America/New_York',\n",
       " 'exchangeTimezoneShortName': 'EDT',\n",
       " 'isEsgPopulated': False,\n",
       " 'gmtOffSetMilliseconds': '-14400000',\n",
       " 'quoteType': 'EQUITY',\n",
       " 'symbol': 'BAM',\n",
       " 'messageBoardId': 'finmb_364332',\n",
       " 'market': 'us_market',\n",
       " 'annualHoldingsTurnover': None,\n",
       " 'enterpriseToRevenue': 4.393,\n",
       " 'beta3Year': None,\n",
       " 'enterpriseToEbitda': 16.894,\n",
       " '52WeekChange': 0.23448884,\n",
       " 'morningStarRiskRating': None,\n",
       " 'forwardEps': 2.93,\n",
       " 'revenueQuarterlyGrowth': None,\n",
       " 'sharesOutstanding': 1568199936,\n",
       " 'fundInceptionDate': None,\n",
       " 'annualReportExpenseRatio': None,\n",
       " 'totalAssets': None,\n",
       " 'bookValue': 26.913,\n",
       " 'sharesShort': 6433745,\n",
       " 'sharesPercentSharesOut': 0.0041,\n",
       " 'fundFamily': None,\n",
       " 'lastFiscalYearEnd': 1640908800,\n",
       " 'heldPercentInstitutions': 0.71498,\n",
       " 'netIncomeToCommon': 3792000000,\n",
       " 'trailingEps': 2.39,\n",
       " 'lastDividendValue': 0.14,\n",
       " 'SandP52WeekChange': 0.13260198,\n",
       " 'priceToBook': 2.0661466,\n",
       " 'heldPercentInsiders': 0.103640005,\n",
       " 'nextFiscalYearEnd': 1703980800,\n",
       " 'yield': None,\n",
       " 'mostRecentQuarter': 1640908800,\n",
       " 'shortRatio': 2.79,\n",
       " 'sharesShortPreviousMonthDate': 1643587200,\n",
       " 'floatShares': 1401663396,\n",
       " 'beta': 1.408423,\n",
       " 'enterpriseValue': 343458250752,\n",
       " 'priceHint': 2,\n",
       " 'threeYearAverageReturn': None,\n",
       " 'lastSplitDate': 1585785600,\n",
       " 'lastSplitFactor': '3:2',\n",
       " 'legalType': None,\n",
       " 'lastDividendDate': 1645747200,\n",
       " 'morningStarOverallRating': None,\n",
       " 'earningsQuarterlyGrowth': 0.739,\n",
       " 'priceToSalesTrailing12Months': 1.1153673,\n",
       " 'dateShortInterest': 1646006400,\n",
       " 'pegRatio': 2.25,\n",
       " 'ytdReturn': None,\n",
       " 'forwardPE': 18.978226,\n",
       " 'lastCapGain': None,\n",
       " 'shortPercentOfFloat': None,\n",
       " 'sharesShortPriorMonth': 6236488,\n",
       " 'impliedSharesOutstanding': 0,\n",
       " 'category': None,\n",
       " 'fiveYearAverageReturn': None,\n",
       " 'previousClose': 55.91,\n",
       " 'regularMarketOpen': 55.29,\n",
       " 'twoHundredDayAverage': 55.54265,\n",
       " 'trailingAnnualDividendYield': 0.009300661,\n",
       " 'payoutRatio': 0.2394,\n",
       " 'volume24Hr': None,\n",
       " 'regularMarketDayHigh': 56.09,\n",
       " 'navPrice': None,\n",
       " 'averageDailyVolume10Day': 1661740,\n",
       " 'regularMarketPreviousClose': 55.91,\n",
       " 'fiftyDayAverage': 55.0034,\n",
       " 'trailingAnnualDividendRate': 0.52,\n",
       " 'open': 55.29,\n",
       " 'toCurrency': None,\n",
       " 'averageVolume10days': 1661740,\n",
       " 'expireDate': None,\n",
       " 'algorithm': None,\n",
       " 'dividendRate': 0.53,\n",
       " 'exDividendDate': 1645747200,\n",
       " 'circulatingSupply': None,\n",
       " 'startDate': None,\n",
       " 'regularMarketDayLow': 55.46,\n",
       " 'currency': 'USD',\n",
       " 'trailingPE': 23.266191,\n",
       " 'regularMarketVolume': 51401,\n",
       " 'lastMarket': None,\n",
       " 'maxSupply': None,\n",
       " 'openInterest': None,\n",
       " 'marketCap': 87201644544,\n",
       " 'volumeAllCurrencies': None,\n",
       " 'strikePrice': None,\n",
       " 'averageVolume': 1835460,\n",
       " 'dayLow': 55.46,\n",
       " 'ask': 56.06,\n",
       " 'askSize': 900,\n",
       " 'volume': 51401,\n",
       " 'fiftyTwoWeekHigh': 62.47,\n",
       " 'fromCurrency': None,\n",
       " 'fiveYearAvgDividendYield': 1.26,\n",
       " 'fiftyTwoWeekLow': 43.96,\n",
       " 'bid': 55.93,\n",
       " 'tradeable': False,\n",
       " 'dividendYield': 0.0095,\n",
       " 'bidSize': 800,\n",
       " 'dayHigh': 56.09,\n",
       " 'regularMarketPrice': 55.6062,\n",
       " 'preMarketPrice': 56,\n",
       " 'logo_url': 'https://logo.clearbit.com/brookfield.com'}"
      ]
     },
     "execution_count": 4,
     "metadata": {},
     "output_type": "execute_result"
    }
   ],
   "source": [
    "brookfield_info=brookfield.info\n",
    "brookfield_info"
   ]
  },
  {
   "cell_type": "code",
   "execution_count": 5,
   "id": "cde47d17-44c0-4785-bcdf-952b1d3c28ce",
   "metadata": {},
   "outputs": [
    {
     "data": {
      "text/plain": [
       "'Canada'"
      ]
     },
     "execution_count": 5,
     "metadata": {},
     "output_type": "execute_result"
    }
   ],
   "source": [
    "brookfield_info['country']"
   ]
  },
  {
   "cell_type": "code",
   "execution_count": 6,
   "id": "15096947-34f7-44e8-862e-72a176a1d0bc",
   "metadata": {},
   "outputs": [],
   "source": [
    "brookfield_share_price_data = brookfield.history(period=\"max\")"
   ]
  },
  {
   "cell_type": "code",
   "execution_count": 7,
   "id": "25262627-0891-48eb-b023-30f7094ee3d4",
   "metadata": {},
   "outputs": [
    {
     "data": {
      "text/html": [
       "<div>\n",
       "<style scoped>\n",
       "    .dataframe tbody tr th:only-of-type {\n",
       "        vertical-align: middle;\n",
       "    }\n",
       "\n",
       "    .dataframe tbody tr th {\n",
       "        vertical-align: top;\n",
       "    }\n",
       "\n",
       "    .dataframe thead th {\n",
       "        text-align: right;\n",
       "    }\n",
       "</style>\n",
       "<table border=\"1\" class=\"dataframe\">\n",
       "  <thead>\n",
       "    <tr style=\"text-align: right;\">\n",
       "      <th></th>\n",
       "      <th>Open</th>\n",
       "      <th>High</th>\n",
       "      <th>Low</th>\n",
       "      <th>Close</th>\n",
       "      <th>Volume</th>\n",
       "      <th>Dividends</th>\n",
       "      <th>Stock Splits</th>\n",
       "    </tr>\n",
       "    <tr>\n",
       "      <th>Date</th>\n",
       "      <th></th>\n",
       "      <th></th>\n",
       "      <th></th>\n",
       "      <th></th>\n",
       "      <th></th>\n",
       "      <th></th>\n",
       "      <th></th>\n",
       "    </tr>\n",
       "  </thead>\n",
       "  <tbody>\n",
       "    <tr>\n",
       "      <th>1983-12-30</th>\n",
       "      <td>0.312613</td>\n",
       "      <td>0.312613</td>\n",
       "      <td>0.311352</td>\n",
       "      <td>0.311352</td>\n",
       "      <td>69836.0</td>\n",
       "      <td>0.0</td>\n",
       "      <td>0.0</td>\n",
       "    </tr>\n",
       "    <tr>\n",
       "      <th>1984-01-03</th>\n",
       "      <td>0.313243</td>\n",
       "      <td>0.313873</td>\n",
       "      <td>0.312613</td>\n",
       "      <td>0.312613</td>\n",
       "      <td>142359.0</td>\n",
       "      <td>0.0</td>\n",
       "      <td>0.0</td>\n",
       "    </tr>\n",
       "    <tr>\n",
       "      <th>1984-01-04</th>\n",
       "      <td>0.312613</td>\n",
       "      <td>0.313874</td>\n",
       "      <td>0.312613</td>\n",
       "      <td>0.313874</td>\n",
       "      <td>53720.0</td>\n",
       "      <td>0.0</td>\n",
       "      <td>0.0</td>\n",
       "    </tr>\n",
       "    <tr>\n",
       "      <th>1984-01-05</th>\n",
       "      <td>0.316394</td>\n",
       "      <td>0.317655</td>\n",
       "      <td>0.315134</td>\n",
       "      <td>0.315134</td>\n",
       "      <td>260544.0</td>\n",
       "      <td>0.0</td>\n",
       "      <td>0.0</td>\n",
       "    </tr>\n",
       "    <tr>\n",
       "      <th>1984-01-06</th>\n",
       "      <td>0.315134</td>\n",
       "      <td>0.318916</td>\n",
       "      <td>0.313873</td>\n",
       "      <td>0.317655</td>\n",
       "      <td>209509.0</td>\n",
       "      <td>0.0</td>\n",
       "      <td>0.0</td>\n",
       "    </tr>\n",
       "  </tbody>\n",
       "</table>\n",
       "</div>"
      ],
      "text/plain": [
       "                Open      High       Low     Close    Volume  Dividends  \\\n",
       "Date                                                                      \n",
       "1983-12-30  0.312613  0.312613  0.311352  0.311352   69836.0        0.0   \n",
       "1984-01-03  0.313243  0.313873  0.312613  0.312613  142359.0        0.0   \n",
       "1984-01-04  0.312613  0.313874  0.312613  0.313874   53720.0        0.0   \n",
       "1984-01-05  0.316394  0.317655  0.315134  0.315134  260544.0        0.0   \n",
       "1984-01-06  0.315134  0.318916  0.313873  0.317655  209509.0        0.0   \n",
       "\n",
       "            Stock Splits  \n",
       "Date                      \n",
       "1983-12-30           0.0  \n",
       "1984-01-03           0.0  \n",
       "1984-01-04           0.0  \n",
       "1984-01-05           0.0  \n",
       "1984-01-06           0.0  "
      ]
     },
     "execution_count": 7,
     "metadata": {},
     "output_type": "execute_result"
    }
   ],
   "source": [
    "brookfield_share_price_data.head()"
   ]
  },
  {
   "cell_type": "code",
   "execution_count": 8,
   "id": "9bbb4ec6-0e14-468e-a0e4-44dd7c13f584",
   "metadata": {},
   "outputs": [],
   "source": [
    "brookfield_share_price_data.reset_index(inplace=True)"
   ]
  },
  {
   "cell_type": "code",
   "execution_count": 9,
   "id": "22aab1df-9122-49e5-833c-b7dde5c93cd3",
   "metadata": {},
   "outputs": [
    {
     "data": {
      "text/plain": [
       "<AxesSubplot:xlabel='Date'>"
      ]
     },
     "execution_count": 9,
     "metadata": {},
     "output_type": "execute_result"
    },
    {
     "data": {
      "image/png": "[encoded data removed]",
      "text/plain": [
       "<Figure size 432x288 with 1 Axes>"
      ]
     },
     "metadata": {
      "needs_background": "light"
     },
     "output_type": "display_data"
    }
   ],
   "source": [
    "brookfield_share_price_data.plot(x=\"Date\", y=\"Open\")"
   ]
  },
  {
   "cell_type": "code",
   "execution_count": 10,
   "id": "5771427a-d0f6-4fae-9f62-b4fa3a0fe18b",
   "metadata": {},
   "outputs": [
    {
     "data": {
      "text/plain": [
       "Date\n",
       "1987-07-27    0.006552\n",
       "1987-10-27    0.016381\n",
       "1988-01-26    0.016381\n",
       "1988-04-25    0.016381\n",
       "1988-07-26    0.017870\n",
       "                ...   \n",
       "2021-02-25    0.130000\n",
       "2021-05-27    0.130000\n",
       "2021-08-30    0.130000\n",
       "2021-11-29    0.130000\n",
       "2022-02-25    0.140000\n",
       "Name: Dividends, Length: 146, dtype: float64"
      ]
     },
     "execution_count": 10,
     "metadata": {},
     "output_type": "execute_result"
    }
   ],
   "source": [
    "brookfield.dividends"
   ]
  },
  {
   "cell_type": "code",
   "execution_count": 11,
   "id": "460e318b-e3c4-4eb5-b61a-719818cddd4a",
   "metadata": {},
   "outputs": [
    {
     "data": {
      "text/plain": [
       "<AxesSubplot:xlabel='Date'>"
      ]
     },
     "execution_count": 11,
     "metadata": {},
     "output_type": "execute_result"
    },
    {
     "data": {
      "image/png": "[encoded data removed]",
      "text/plain": [
       "<Figure size 432x288 with 1 Axes>"
      ]
     },
     "metadata": {
      "needs_background": "light"
     },
     "output_type": "display_data"
    }
   ],
   "source": [
    "brookfield.dividends.plot()"
   ]
  },
  {
   "cell_type": "code",
   "execution_count": null,
   "id": "0713991d-1192-4a2f-8c29-4ba1e424f6c8",
   "metadata": {},
   "outputs": [],
   "source": []
  }
 ],
 "metadata": {
  "kernelspec": {
   "display_name": "Python",
   "language": "python",
   "name": "conda-env-python-py"
  },
  "language_info": {
   "codemirror_mode": {
    "name": "ipython",
    "version": 3
   },
   "file_extension": ".py",
   "mimetype": "text/x-python",
   "name": "python",
   "nbconvert_exporter": "python",
   "pygments_lexer": "ipython3",
   "version": "3.7.12"
  }
 },
 "nbformat": 4,
 "nbformat_minor": 5
}
