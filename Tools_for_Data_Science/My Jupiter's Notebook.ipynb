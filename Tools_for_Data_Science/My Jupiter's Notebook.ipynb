{
  "metadata": {
    "kernelspec": {
      "name": "python",
      "display_name": "Python (Pyodide)",
      "language": "python"
    },
    "language_info": {
      "codemirror_mode": {
        "name": "python",
        "version": 3
      },
      "file_extension": ".py",
      "mimetype": "text/x-python",
      "name": "python",
      "nbconvert_exporter": "python",
      "pygments_lexer": "ipython3",
      "version": "3.8"
    }
  },
  "nbformat_minor": 4,
  "nbformat": 4,
  "cells": [
    {
      "cell_type": "markdown",
      "source": "## My Jupiter Notebook\n\nVantuil Junior\n\nDeveloped by Myself.",
      "metadata": {}
    },
    {
      "cell_type": "markdown",
      "source": "I'm passionate about data science because I built some programming skills some years ago.",
      "metadata": {}
    },
    {
      "cell_type": "code",
      "source": "def pick_a_card():\n    card_suits = [\"Diamonds\", \"Hearts\", \"Spades\", \"Clubs\"]\n    card_ranks = [2, 3, 4, 5, 6, 7]\n    print(card_suits)\n    \n    import random\n    random_suit = random.choice(card_suits)\n    random_rank = random.choice(card_ranks)\n    print(f\"The {random_rank} of {random_suit}!\")\n\npick_a_card()",
      "metadata": {},
      "execution_count": 4,
      "outputs": [
        {
          "name": "stdout",
          "output_type": "stream",
          "text": "['Diamonds', 'Hearts', 'Spades', 'Clubs']\n\nThe 2 of Spades!\n"
        }
      ]
    }
  ]
}